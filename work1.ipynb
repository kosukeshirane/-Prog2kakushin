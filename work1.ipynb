{
  "nbformat": 4,
  "nbformat_minor": 0,
  "metadata": {
    "colab": {
      "provenance": [],
      "authorship_tag": "ABX9TyOf+E/bdqSY+CVy+ilGsRwO",
      "include_colab_link": true
    },
    "kernelspec": {
      "name": "python3",
      "display_name": "Python 3"
    },
    "language_info": {
      "name": "python"
    }
  },
  "cells": [
    {
      "cell_type": "markdown",
      "metadata": {
        "id": "view-in-github",
        "colab_type": "text"
      },
      "source": [
        "<a href=\"https://colab.research.google.com/github/kosukeshirane/-Prog2kakushin/blob/main/work1.ipynb\" target=\"_parent\"><img src=\"https://colab.research.google.com/assets/colab-badge.svg\" alt=\"Open In Colab\"/></a>"
      ]
    },
    {
      "cell_type": "markdown",
      "source": [
        "# pandas\n",
        "\n",
        "駅伝のタイム\n",
        "\n"
      ],
      "metadata": {
        "id": "b7zsz8UhuBxk"
      }
    },
    {
      "cell_type": "code",
      "source": [],
      "metadata": {
        "id": "sMOyLsvr_AMd"
      },
      "execution_count": null,
      "outputs": []
    }
  ]
}