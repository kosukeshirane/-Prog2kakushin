{
  "nbformat": 4,
  "nbformat_minor": 0,
  "metadata": {
    "colab": {
      "provenance": [],
      "authorship_tag": "ABX9TyN2L5UNlVkXZkgFYrWnpbVe",
      "include_colab_link": true
    },
    "kernelspec": {
      "name": "python3",
      "display_name": "Python 3"
    },
    "language_info": {
      "name": "python"
    }
  },
  "cells": [
    {
      "cell_type": "markdown",
      "metadata": {
        "id": "view-in-github",
        "colab_type": "text"
      },
      "source": [
        "<a href=\"https://colab.research.google.com/github/kosukeshirane/-Prog2kakushin/blob/main/work3.ipynb\" target=\"_parent\"><img src=\"https://colab.research.google.com/assets/colab-badge.svg\" alt=\"Open In Colab\"/></a>"
      ]
    },
    {
      "cell_type": "markdown",
      "source": [
        "# turtle, opencv\n",
        "あみだくじをランダムに作成し、実行するプログラム。金色の亀がいるところにたどり着けば、「当たり」とすることにした。"
      ],
      "metadata": {
        "id": "-XoJN6MzuaDQ"
      }
    },
    {
      "cell_type": "code",
      "source": [
        "!pip3 install ColabTurtlePlus"
      ],
      "metadata": {
        "id": "mAh-T5lkZjAX",
        "colab": {
          "base_uri": "https://localhost:8080/"
        },
        "outputId": "b5d33e0a-2a88-4ba1-b437-d129c56d54cd"
      },
      "execution_count": 1,
      "outputs": [
        {
          "output_type": "stream",
          "name": "stdout",
          "text": [
            "Looking in indexes: https://pypi.org/simple, https://us-python.pkg.dev/colab-wheels/public/simple/\n",
            "Collecting ColabTurtlePlus\n",
            "  Downloading ColabTurtlePlus-2.0.1-py3-none-any.whl (31 kB)\n",
            "Installing collected packages: ColabTurtlePlus\n",
            "Successfully installed ColabTurtlePlus-2.0.1\n"
          ]
        }
      ]
    },
    {
      "cell_type": "code",
      "source": [
        "#あみだくじを作成\n",
        "from ColabTurtlePlus.Turtle import *\n",
        "import numpy as np\n",
        "clearscreen()\n",
        "setup(600,600)\n",
        "where=int(input('どこから始めますか?(左から順に1,2,3)'))\n",
        "turtle1 = Turtle()\n",
        "turtle1.shape(\"turtle\")\n",
        "turtle2 = Turtle()\n",
        "turtle2.shape(\"turtle\")\n",
        "turtle2.fillcolor(\"gold\")\n",
        "turtle2.pencolor(\"gold\")\n",
        "turtle2.penup()\n",
        "turtle2.left(90)\n",
        "a=np.random.randint(1,4)\n",
        "if a==1:\n",
        "  b=-150\n",
        "elif a==2:\n",
        "  b=0\n",
        "else:\n",
        "  b=150\n",
        "turtle2.goto(b,-200)\n",
        "turtle1.penup()\n",
        "turtle1.goto(-150,200)\n",
        "turtle1.pendown()\n",
        "turtle1.right(90)\n",
        "turtle1.forward(300)\n",
        "turtle1.left(90)\n",
        "turtle1.penup()\n",
        "turtle1.goto(0,200)\n",
        "turtle1.pendown()\n",
        "turtle1.right(90)\n",
        "turtle1.forward(300)\n",
        "turtle1.left(90)\n",
        "turtle1.penup()\n",
        "turtle1.goto(150,200)\n",
        "turtle1.pendown()\n",
        "turtle1.right(90)\n",
        "turtle1.forward(300)\n",
        "turtle1.left(90)\n",
        "\n",
        "right=[]\n",
        "left=[]\n",
        "for j in range(1,3):\n",
        "  for i in range(1,15):\n",
        "    n=np.random.randint(1,3)\n",
        "    if n==1:\n",
        "      if j==1:\n",
        "        turtle1.penup()\n",
        "        turtle1.goto(-150,200-20*i)\n",
        "        turtle1.pendown()\n",
        "        turtle1.goto(0,200-20*i)\n",
        "        right.append((-150,200-20*i))\n",
        "        left.append((0,200-20*i))\n",
        "      elif j==2:\n",
        "        turtle1.penup()\n",
        "        turtle1.goto(0,190-20*i)\n",
        "        turtle1.pendown()\n",
        "        turtle1.goto(150,190-20*i)\n",
        "        right.append((0,190-20*i))\n",
        "        left.append((150,190-20*i))\n",
        "\n",
        "#あみだくじを実行\n",
        "turtle1.color(\"red\")\n",
        "turtle1.penup()\n",
        "if where==1:\n",
        "  start=-150\n",
        "elif where==2:\n",
        "  start=0\n",
        "else:\n",
        "  start=150\n",
        "turtle1.goto(start,200)\n",
        "turtle1.pendown()\n",
        "turtle1.right(90)\n",
        "turtle1.forward(10)\n",
        "for k in range(1,15):\n",
        "  turtle1.forward(10)\n",
        "  if (turtle1.xcor(),turtle1.ycor()) in right:\n",
        "    turtle1.left(90)\n",
        "    turtle1.forward(150)\n",
        "    turtle1.right(90)\n",
        "  elif (turtle1.xcor(),turtle1.ycor()) in left:\n",
        "    turtle1.right(90)\n",
        "    turtle1.forward(150)\n",
        "    turtle1.left(90)\n",
        "  turtle1.forward(10)\n",
        "  if (turtle1.xcor(),turtle1.ycor()) in right:\n",
        "    turtle1.left(90)\n",
        "    turtle1.forward(150)\n",
        "    turtle1.right(90)\n",
        "  elif (turtle1.xcor(),turtle1.ycor()) in left:\n",
        "    turtle1.right(90)\n",
        "    turtle1.forward(150)\n",
        "    turtle1.left(90)\n",
        "turtle1.forward(100)\n",
        "if turtle1.xcor()==b:\n",
        "  print('当たり!!!')\n",
        "else:\n",
        "  print(\"はずれ\")"
      ],
      "metadata": {
        "id": "l2rAv8WQYDKd",
        "colab": {
          "base_uri": "https://localhost:8080/",
          "height": 658
        },
        "outputId": "6f314967-d679-47eb-cabf-0ac184b27bcd"
      },
      "execution_count": 46,
      "outputs": [
        {
          "output_type": "display_data",
          "data": {
            "text/plain": [
              "<IPython.core.display.HTML object>"
            ],
            "text/html": [
              "\n",
              "      <svg width=\"600\" height=\"600\">  \n",
              "        <rect width=\"100%\" height=\"100%\" style=\"fill:white;stroke:;stroke-width:1\"/>\n",
              "        \n",
              "        \n",
              "        <line x1=\"150.0\" y1=\"100.0\" x2=\"150.0\" y2=\"400.0\" stroke-linecap=\"round\" style=\"stroke:black;stroke-width:1\" /><line x1=\"300.0\" y1=\"100.0\" x2=\"300.0\" y2=\"400.0\" stroke-linecap=\"round\" style=\"stroke:black;stroke-width:1\" /><line x1=\"450.0\" y1=\"100.0\" x2=\"450.0\" y2=\"400.0\" stroke-linecap=\"round\" style=\"stroke:black;stroke-width:1\" /><line x1=\"150.0\" y1=\"180.0\" x2=\"300.0\" y2=\"180.0\" stroke-linecap=\"round\" style=\"stroke:black;stroke-width:1\" /><line x1=\"150.0\" y1=\"240.0\" x2=\"300.0\" y2=\"240.0\" stroke-linecap=\"round\" style=\"stroke:black;stroke-width:1\" /><line x1=\"150.0\" y1=\"260.0\" x2=\"300.0\" y2=\"260.0\" stroke-linecap=\"round\" style=\"stroke:black;stroke-width:1\" /><line x1=\"150.0\" y1=\"280.0\" x2=\"300.0\" y2=\"280.0\" stroke-linecap=\"round\" style=\"stroke:black;stroke-width:1\" /><line x1=\"150.0\" y1=\"360.0\" x2=\"300.0\" y2=\"360.0\" stroke-linecap=\"round\" style=\"stroke:black;stroke-width:1\" /><line x1=\"300.0\" y1=\"170.0\" x2=\"450.0\" y2=\"170.0\" stroke-linecap=\"round\" style=\"stroke:black;stroke-width:1\" /><line x1=\"300.0\" y1=\"210.0\" x2=\"450.0\" y2=\"210.0\" stroke-linecap=\"round\" style=\"stroke:black;stroke-width:1\" /><line x1=\"300.0\" y1=\"330.0\" x2=\"450.0\" y2=\"330.0\" stroke-linecap=\"round\" style=\"stroke:black;stroke-width:1\" /><line x1=\"300.0\" y1=\"350.0\" x2=\"450.0\" y2=\"350.0\" stroke-linecap=\"round\" style=\"stroke:black;stroke-width:1\" /><line x1=\"300.0\" y1=\"370.0\" x2=\"450.0\" y2=\"370.0\" stroke-linecap=\"round\" style=\"stroke:black;stroke-width:1\" /><line x1=\"300.0\" y1=\"390.0\" x2=\"450.0\" y2=\"390.0\" stroke-linecap=\"round\" style=\"stroke:black;stroke-width:1\" /><line x1=\"450.0\" y1=\"100.0\" x2=\"450.0\" y2=\"110.0\" stroke-linecap=\"round\" style=\"stroke:red;stroke-width:1\" /><line x1=\"450.0\" y1=\"110.0\" x2=\"450.0\" y2=\"120.0\" stroke-linecap=\"round\" style=\"stroke:red;stroke-width:1\" /><line x1=\"450.0\" y1=\"120.0\" x2=\"450.0\" y2=\"130.0\" stroke-linecap=\"round\" style=\"stroke:red;stroke-width:1\" /><line x1=\"450.0\" y1=\"130.0\" x2=\"450.0\" y2=\"140.0\" stroke-linecap=\"round\" style=\"stroke:red;stroke-width:1\" /><line x1=\"450.0\" y1=\"140.0\" x2=\"450.0\" y2=\"150.0\" stroke-linecap=\"round\" style=\"stroke:red;stroke-width:1\" /><line x1=\"450.0\" y1=\"150.0\" x2=\"450.0\" y2=\"160.0\" stroke-linecap=\"round\" style=\"stroke:red;stroke-width:1\" /><line x1=\"450.0\" y1=\"160.0\" x2=\"450.0\" y2=\"170.0\" stroke-linecap=\"round\" style=\"stroke:red;stroke-width:1\" /><line x1=\"450.0\" y1=\"170.0\" x2=\"300.0\" y2=\"170.0\" stroke-linecap=\"round\" style=\"stroke:red;stroke-width:1\" /><line x1=\"300.0\" y1=\"170.0\" x2=\"300.0\" y2=\"180.0\" stroke-linecap=\"round\" style=\"stroke:red;stroke-width:1\" /><line x1=\"300.0\" y1=\"180.0\" x2=\"150.0\" y2=\"180.0\" stroke-linecap=\"round\" style=\"stroke:red;stroke-width:1\" /><line x1=\"150.0\" y1=\"180.0\" x2=\"150.0\" y2=\"190.0\" stroke-linecap=\"round\" style=\"stroke:red;stroke-width:1\" /><line x1=\"150.0\" y1=\"190.0\" x2=\"150.0\" y2=\"200.0\" stroke-linecap=\"round\" style=\"stroke:red;stroke-width:1\" /><line x1=\"150.0\" y1=\"200.0\" x2=\"150.0\" y2=\"210.0\" stroke-linecap=\"round\" style=\"stroke:red;stroke-width:1\" /><line x1=\"150.0\" y1=\"210.0\" x2=\"150.0\" y2=\"220.0\" stroke-linecap=\"round\" style=\"stroke:red;stroke-width:1\" /><line x1=\"150.0\" y1=\"220.0\" x2=\"150.0\" y2=\"230.0\" stroke-linecap=\"round\" style=\"stroke:red;stroke-width:1\" /><line x1=\"150.0\" y1=\"230.0\" x2=\"150.0\" y2=\"240.0\" stroke-linecap=\"round\" style=\"stroke:red;stroke-width:1\" /><line x1=\"150.0\" y1=\"240.0\" x2=\"300.0\" y2=\"240.0\" stroke-linecap=\"round\" style=\"stroke:red;stroke-width:1\" /><line x1=\"300.0\" y1=\"240.0\" x2=\"300.0\" y2=\"250.0\" stroke-linecap=\"round\" style=\"stroke:red;stroke-width:1\" /><line x1=\"300.0\" y1=\"250.0\" x2=\"300.0\" y2=\"260.0\" stroke-linecap=\"round\" style=\"stroke:red;stroke-width:1\" /><line x1=\"300.0\" y1=\"260.0\" x2=\"150.0\" y2=\"260.0\" stroke-linecap=\"round\" style=\"stroke:red;stroke-width:1\" /><line x1=\"150.0\" y1=\"260.0\" x2=\"150.0\" y2=\"270.0\" stroke-linecap=\"round\" style=\"stroke:red;stroke-width:1\" /><line x1=\"150.0\" y1=\"270.0\" x2=\"150.0\" y2=\"280.0\" stroke-linecap=\"round\" style=\"stroke:red;stroke-width:1\" /><line x1=\"150.0\" y1=\"280.0\" x2=\"300.0\" y2=\"280.0\" stroke-linecap=\"round\" style=\"stroke:red;stroke-width:1\" /><line x1=\"300.0\" y1=\"280.0\" x2=\"300.0\" y2=\"290.0\" stroke-linecap=\"round\" style=\"stroke:red;stroke-width:1\" /><line x1=\"300.0\" y1=\"290.0\" x2=\"300.0\" y2=\"300.0\" stroke-linecap=\"round\" style=\"stroke:red;stroke-width:1\" /><line x1=\"300.0\" y1=\"300.0\" x2=\"300.0\" y2=\"310.0\" stroke-linecap=\"round\" style=\"stroke:red;stroke-width:1\" /><line x1=\"300.0\" y1=\"310.0\" x2=\"300.0\" y2=\"320.0\" stroke-linecap=\"round\" style=\"stroke:red;stroke-width:1\" /><line x1=\"300.0\" y1=\"320.0\" x2=\"300.0\" y2=\"330.0\" stroke-linecap=\"round\" style=\"stroke:red;stroke-width:1\" /><line x1=\"300.0\" y1=\"330.0\" x2=\"450.0\" y2=\"330.0\" stroke-linecap=\"round\" style=\"stroke:red;stroke-width:1\" /><line x1=\"450.0\" y1=\"330.0\" x2=\"450.0\" y2=\"340.0\" stroke-linecap=\"round\" style=\"stroke:red;stroke-width:1\" /><line x1=\"450.0\" y1=\"340.0\" x2=\"450.0\" y2=\"350.0\" stroke-linecap=\"round\" style=\"stroke:red;stroke-width:1\" /><line x1=\"450.0\" y1=\"350.0\" x2=\"300.0\" y2=\"350.0\" stroke-linecap=\"round\" style=\"stroke:red;stroke-width:1\" /><line x1=\"300.0\" y1=\"350.0\" x2=\"300.0\" y2=\"360.0\" stroke-linecap=\"round\" style=\"stroke:red;stroke-width:1\" /><line x1=\"300.0\" y1=\"360.0\" x2=\"150.0\" y2=\"360.0\" stroke-linecap=\"round\" style=\"stroke:red;stroke-width:1\" /><line x1=\"150.0\" y1=\"360.0\" x2=\"150.0\" y2=\"370.0\" stroke-linecap=\"round\" style=\"stroke:red;stroke-width:1\" /><line x1=\"150.0\" y1=\"370.0\" x2=\"150.0\" y2=\"380.0\" stroke-linecap=\"round\" style=\"stroke:red;stroke-width:1\" /><line x1=\"150.0\" y1=\"380.0\" x2=\"150.0\" y2=\"390.0\" stroke-linecap=\"round\" style=\"stroke:red;stroke-width:1\" /><line x1=\"150.0\" y1=\"390.0\" x2=\"150.0\" y2=\"400.0\" stroke-linecap=\"round\" style=\"stroke:red;stroke-width:1\" /><line x1=\"150.0\" y1=\"400.0\" x2=\"150.0\" y2=\"410.0\" stroke-linecap=\"round\" style=\"stroke:red;stroke-width:1\" /><line x1=\"150.0\" y1=\"410.0\" x2=\"150.0\" y2=\"420.0\" stroke-linecap=\"round\" style=\"stroke:red;stroke-width:1\" /><line x1=\"150.0\" y1=\"420.0\" x2=\"150.0\" y2=\"430.0\" stroke-linecap=\"round\" style=\"stroke:red;stroke-width:1\" /><line x1=\"150.0\" y1=\"430.0\" x2=\"150.0\" y2=\"440.0\" stroke-linecap=\"round\" style=\"stroke:red;stroke-width:1\" /><line x1=\"150.0\" y1=\"440.0\" x2=\"150.0\" y2=\"450.0\" stroke-linecap=\"round\" style=\"stroke:red;stroke-width:1\" /><line x1=\"150.0\" y1=\"450.0\" x2=\"150.0\" y2=\"460.0\" stroke-linecap=\"round\" style=\"stroke:red;stroke-width:1\" /><line x1=\"150.0\" y1=\"460.0\" x2=\"150.0\" y2=\"470.0\" stroke-linecap=\"round\" style=\"stroke:red;stroke-width:1\" /><line x1=\"150.0\" y1=\"470.0\" x2=\"150.0\" y2=\"480.0\" stroke-linecap=\"round\" style=\"stroke:red;stroke-width:1\" /><line x1=\"150.0\" y1=\"480.0\" x2=\"150.0\" y2=\"490.0\" stroke-linecap=\"round\" style=\"stroke:red;stroke-width:1\" />\n",
              "        \n",
              "        \n",
              "        <g id=\"turtle\" visibility=\"visible\" transform=\"rotate(180,150.0,490.0) translate(150.0, 490.0)\">\n",
              "<path style=\"stroke:red;fill-rule:evenodd;fill:red;fill-opacity:1;\" transform=\"skewX(0) scale(1,1)\" d=\"m 1.1536693,-18.56101 c -2.105469,1.167969 -3.203125,3.441407 -3.140625,6.5 l 0.011719,0.519532 -0.300782,-0.15625 c -1.308594,-0.671875 -2.828125,-0.824219 -4.378906,-0.429688 -1.9375,0.484375 -3.8906253,2.089844 -6.0117193,4.9257825 -1.332031,1.785156 -1.714843,2.644531 -1.351562,3.035156 l 0.113281,0.125 h 0.363281 c 0.71875,0 1.308594,-0.265625 4.6679693,-2.113282 1.199219,-0.660156 2.183594,-1.199218 2.191406,-1.199218 0.00781,0 -0.023437,0.089844 -0.074218,0.195312 -0.472657,1.058594 -1.046876,2.785156 -1.335938,4.042969 -1.054688,4.574219 -0.351562,8.453125 2.101562,11.582031 0.28125,0.355469 0.292969,0.253906 -0.097656,0.722656 -2.046875,2.4609375 -3.027344,4.8984375 -2.734375,6.8046875 0.050781,0.339844 0.042969,0.335938 0.679688,0.335938 2.023437,0 4.15625,-1.316407 6.21875,-3.835938 0.222656,-0.269531 0.191406,-0.261719 0.425781,-0.113281 0.730469,0.46875 2.460938,1.390625 2.613281,1.390625 0.160157,0 1.765625,-0.753906 2.652344,-1.246094 0.167969,-0.09375 0.308594,-0.164062 0.308594,-0.160156 0.066406,0.105468 0.761719,0.855468 1.085937,1.171875 1.613282,1.570312 3.339844,2.402343 5.3593747,2.570312 0.324219,0.02734 0.355469,0.0078 0.425781,-0.316406 0.375,-1.742187 -0.382812,-4.058594 -2.1445307,-6.5585935 l -0.320312,-0.457031 0.15625,-0.183594 c 3.2460927,-3.824218 3.4335927,-9.08593704 0.558593,-15.816406 l -0.050781,-0.125 1.7382807,0.859375 c 3.585938,1.773437 4.371094,2.097656 5.085938,2.097656 0.945312,0 0.75,-0.863281 -0.558594,-2.507812 C 11.458356,-11.838353 8.3333563,-13.268041 4.8607003,-11.721166 l -0.363281,0.164063 0.019531,-0.09375 c 0.121094,-0.550781 0.183594,-1.800781 0.121094,-2.378907 -0.203125,-1.867187 -1.035157,-3.199218 -2.695313,-4.308593 -0.523437,-0.351563 -0.546875,-0.355469 -0.789062,-0.222657\" />\n",
              "</g><g id=\"turtle\" visibility=\"visible\" transform=\"rotate(360,300.0,500.0) translate(300.0, 500.0)\">\n",
              "<path style=\"stroke:gold;fill-rule:evenodd;fill:gold;fill-opacity:1;\" transform=\"skewX(0) scale(1,1)\" d=\"m 1.1536693,-18.56101 c -2.105469,1.167969 -3.203125,3.441407 -3.140625,6.5 l 0.011719,0.519532 -0.300782,-0.15625 c -1.308594,-0.671875 -2.828125,-0.824219 -4.378906,-0.429688 -1.9375,0.484375 -3.8906253,2.089844 -6.0117193,4.9257825 -1.332031,1.785156 -1.714843,2.644531 -1.351562,3.035156 l 0.113281,0.125 h 0.363281 c 0.71875,0 1.308594,-0.265625 4.6679693,-2.113282 1.199219,-0.660156 2.183594,-1.199218 2.191406,-1.199218 0.00781,0 -0.023437,0.089844 -0.074218,0.195312 -0.472657,1.058594 -1.046876,2.785156 -1.335938,4.042969 -1.054688,4.574219 -0.351562,8.453125 2.101562,11.582031 0.28125,0.355469 0.292969,0.253906 -0.097656,0.722656 -2.046875,2.4609375 -3.027344,4.8984375 -2.734375,6.8046875 0.050781,0.339844 0.042969,0.335938 0.679688,0.335938 2.023437,0 4.15625,-1.316407 6.21875,-3.835938 0.222656,-0.269531 0.191406,-0.261719 0.425781,-0.113281 0.730469,0.46875 2.460938,1.390625 2.613281,1.390625 0.160157,0 1.765625,-0.753906 2.652344,-1.246094 0.167969,-0.09375 0.308594,-0.164062 0.308594,-0.160156 0.066406,0.105468 0.761719,0.855468 1.085937,1.171875 1.613282,1.570312 3.339844,2.402343 5.3593747,2.570312 0.324219,0.02734 0.355469,0.0078 0.425781,-0.316406 0.375,-1.742187 -0.382812,-4.058594 -2.1445307,-6.5585935 l -0.320312,-0.457031 0.15625,-0.183594 c 3.2460927,-3.824218 3.4335927,-9.08593704 0.558593,-15.816406 l -0.050781,-0.125 1.7382807,0.859375 c 3.585938,1.773437 4.371094,2.097656 5.085938,2.097656 0.945312,0 0.75,-0.863281 -0.558594,-2.507812 C 11.458356,-11.838353 8.3333563,-13.268041 4.8607003,-11.721166 l -0.363281,0.164063 0.019531,-0.09375 c 0.121094,-0.550781 0.183594,-1.800781 0.121094,-2.378907 -0.203125,-1.867187 -1.035157,-3.199218 -2.695313,-4.308593 -0.523437,-0.351563 -0.546875,-0.355469 -0.789062,-0.222657\" />\n",
              "</g>\n",
              "      </svg>\n",
              "    "
            ]
          },
          "metadata": {}
        },
        {
          "output_type": "stream",
          "name": "stdout",
          "text": [
            "どこから始めますか?(左から順に1,2,3)3\n",
            "はずれ\n"
          ]
        }
      ]
    }
  ]
}